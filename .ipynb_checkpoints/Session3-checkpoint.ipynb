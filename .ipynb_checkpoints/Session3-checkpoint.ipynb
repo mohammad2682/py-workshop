{
 "cells": [
  {
   "cell_type": "markdown",
   "id": "ab3c5299-45fc-4db4-9839-2b2e489c1ae9",
   "metadata": {
    "tags": []
   },
   "source": [
    "# __Python and Datascience Workshop__\n",
    "Author: Mohammad Akradi <sup>1</sup> <br>\n",
    "<sup>1</sup> Institute of Medical Science and Technology, Shahid Beheshti University, Tehran, Iran\n",
    "\n",
    "## __Session 3__\n",
    "In this session, we will learn how to visualize our data. Data visualization is an interdisciplinary field that deals with the graphic representation of data. It is a particularly efficient way of communicating when the data is numerous as for example a time series."
   ]
  },
  {
   "cell_type": "code",
   "execution_count": null,
   "id": "35f07578-13e5-4719-a6aa-e30c0043cad9",
   "metadata": {},
   "outputs": [],
   "source": []
  }
 ],
 "metadata": {
  "kernelspec": {
   "display_name": "Python 3 (ipykernel)",
   "language": "python",
   "name": "python3"
  },
  "language_info": {
   "codemirror_mode": {
    "name": "ipython",
    "version": 3
   },
   "file_extension": ".py",
   "mimetype": "text/x-python",
   "name": "python",
   "nbconvert_exporter": "python",
   "pygments_lexer": "ipython3",
   "version": "3.8.10"
  }
 },
 "nbformat": 4,
 "nbformat_minor": 5
}
