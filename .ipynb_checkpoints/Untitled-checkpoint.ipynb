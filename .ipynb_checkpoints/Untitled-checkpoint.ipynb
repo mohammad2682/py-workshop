{
 "cells": [
  {
   "cell_type": "code",
   "execution_count": 13,
   "id": "140794a4-d7f7-489d-80d9-3cb082a05988",
   "metadata": {},
   "outputs": [
    {
     "name": "stdin",
     "output_type": "stream",
     "text": [
      "Enter your name:  Mohammad\n"
     ]
    }
   ],
   "source": [
    "name = input(\"Enter your name: \")"
   ]
  },
  {
   "cell_type": "code",
   "execution_count": 14,
   "id": "0b0a9af9-4b43-44e4-b504-6f478138e2a8",
   "metadata": {},
   "outputs": [
    {
     "data": {
      "text/plain": [
       "'Mohammad'"
      ]
     },
     "execution_count": 14,
     "metadata": {},
     "output_type": "execute_result"
    }
   ],
   "source": [
    "name"
   ]
  },
  {
   "cell_type": "code",
   "execution_count": 22,
   "id": "2e522282-fc5e-4a8c-8ca5-74a7b4999c52",
   "metadata": {},
   "outputs": [],
   "source": [
    "file = open('file.txt', 'w')"
   ]
  },
  {
   "cell_type": "code",
   "execution_count": 23,
   "id": "6d3b391f-8e18-4a1b-855d-cb5bcc16fc2f",
   "metadata": {},
   "outputs": [
    {
     "data": {
      "text/plain": [
       "13"
      ]
     },
     "execution_count": 23,
     "metadata": {},
     "output_type": "execute_result"
    }
   ],
   "source": [
    "file.write(\"this is test2\")"
   ]
  },
  {
   "cell_type": "code",
   "execution_count": 24,
   "id": "9ed5df07-2ee6-419d-92d2-bc892e444fbf",
   "metadata": {},
   "outputs": [
    {
     "data": {
      "text/plain": [
       "20"
      ]
     },
     "execution_count": 24,
     "metadata": {},
     "output_type": "execute_result"
    }
   ],
   "source": [
    "file.write(\"\\nthis is second test\")"
   ]
  },
  {
   "cell_type": "code",
   "execution_count": 25,
   "id": "4af15c68-4b0a-4a56-a212-62385624ea63",
   "metadata": {},
   "outputs": [],
   "source": [
    "file.close()"
   ]
  },
  {
   "cell_type": "code",
   "execution_count": 42,
   "id": "85429bab-7417-4836-b3a8-ec210f61ccef",
   "metadata": {},
   "outputs": [],
   "source": [
    "file = open('file.txt', 'a')\n",
    "file.write('\\n\\n#Author: Mohammad')\n",
    "file.write('\\n#Date: 15 Apr')\n",
    "file.close()"
   ]
  },
  {
   "cell_type": "code",
   "execution_count": 28,
   "id": "1320a27e-52f5-402b-ba16-96eabb6e1e5e",
   "metadata": {},
   "outputs": [],
   "source": [
    "f = open('file.txt', 'r')"
   ]
  },
  {
   "cell_type": "code",
   "execution_count": 30,
   "id": "a546c34e-8813-4432-994b-290da3296941",
   "metadata": {},
   "outputs": [
    {
     "name": "stdout",
     "output_type": "stream",
     "text": [
      "this is test2\n",
      "\n",
      "this is second testthis is test 3\n",
      "\n",
      "\n",
      "\n",
      "#Author: Mohammad\n",
      "\n",
      "#Date: 15 Apr\n"
     ]
    }
   ],
   "source": [
    "for line in f:\n",
    "    print(line)"
   ]
  },
  {
   "cell_type": "code",
   "execution_count": 31,
   "id": "99e2c932-1ad4-4b5d-ba5d-a92c582eb343",
   "metadata": {},
   "outputs": [],
   "source": [
    "f.close()"
   ]
  },
  {
   "cell_type": "code",
   "execution_count": 32,
   "id": "e734e13e-9849-4c78-8007-d2331cd0f22d",
   "metadata": {},
   "outputs": [
    {
     "name": "stdout",
     "output_type": "stream",
     "text": [
      "this is test2\n",
      "\n",
      "this is second testthis is test 3\n",
      "\n",
      "\n",
      "\n",
      "#Author: Mohammad\n",
      "\n",
      "#Date: 15 Apr\n"
     ]
    }
   ],
   "source": [
    "with open('file.txt') as f:\n",
    "    for line in f:\n",
    "        print(line)"
   ]
  },
  {
   "cell_type": "code",
   "execution_count": 34,
   "id": "686a8e2a-b5cd-4876-ad31-d0982d94c207",
   "metadata": {},
   "outputs": [],
   "source": [
    "import os"
   ]
  },
  {
   "cell_type": "code",
   "execution_count": 36,
   "id": "a6c91d3b-d324-48db-9856-7bbf4c2580e3",
   "metadata": {},
   "outputs": [
    {
     "data": {
      "text/plain": [
       "False"
      ]
     },
     "execution_count": 36,
     "metadata": {},
     "output_type": "execute_result"
    }
   ],
   "source": [
    "os.path.exists('file2.txt')"
   ]
  },
  {
   "cell_type": "code",
   "execution_count": 37,
   "id": "6890e821-2098-4275-b502-ae96ba50791b",
   "metadata": {},
   "outputs": [],
   "source": [
    "os.remove('file.txt')"
   ]
  },
  {
   "cell_type": "code",
   "execution_count": 40,
   "id": "b0e58718-1274-4398-965f-aff4ccb9e604",
   "metadata": {},
   "outputs": [],
   "source": [
    "os.makedirs('test-folder')"
   ]
  },
  {
   "cell_type": "code",
   "execution_count": 41,
   "id": "34e4d86b-7225-42e4-9a96-1a7a800c115d",
   "metadata": {},
   "outputs": [],
   "source": [
    "import shutil"
   ]
  },
  {
   "cell_type": "code",
   "execution_count": 43,
   "id": "34d68739-2024-4e05-a537-5be2a853270f",
   "metadata": {},
   "outputs": [
    {
     "data": {
      "text/plain": [
       "'test-folder/file-copy.txt'"
      ]
     },
     "execution_count": 43,
     "metadata": {},
     "output_type": "execute_result"
    }
   ],
   "source": [
    "shutil.copy('file.txt', 'test-folder/file-copy.txt')"
   ]
  },
  {
   "cell_type": "code",
   "execution_count": 45,
   "id": "523b4fb8-0aef-49fb-93c6-8107eece68d4",
   "metadata": {},
   "outputs": [
    {
     "data": {
      "text/plain": [
       "'test-folder/file.txt'"
      ]
     },
     "execution_count": 45,
     "metadata": {},
     "output_type": "execute_result"
    }
   ],
   "source": [
    "shutil.move('file.txt', 'test-folder/file.txt')"
   ]
  },
  {
   "cell_type": "code",
   "execution_count": 46,
   "id": "5e8d4290-77d4-45f8-9aea-28a5f912b4e7",
   "metadata": {},
   "outputs": [
    {
     "ename": "OSError",
     "evalue": "[Errno 39] Directory not empty: 'test-folder/'",
     "output_type": "error",
     "traceback": [
      "\u001b[0;31m---------------------------------------------------------------------------\u001b[0m",
      "\u001b[0;31mOSError\u001b[0m                                   Traceback (most recent call last)",
      "Input \u001b[0;32mIn [46]\u001b[0m, in \u001b[0;36m<module>\u001b[0;34m\u001b[0m\n\u001b[0;32m----> 1\u001b[0m \u001b[43mos\u001b[49m\u001b[38;5;241;43m.\u001b[39;49m\u001b[43mrmdir\u001b[49m\u001b[43m(\u001b[49m\u001b[38;5;124;43m'\u001b[39;49m\u001b[38;5;124;43mtest-folder/\u001b[39;49m\u001b[38;5;124;43m'\u001b[39;49m\u001b[43m)\u001b[49m\n",
      "\u001b[0;31mOSError\u001b[0m: [Errno 39] Directory not empty: 'test-folder/'"
     ]
    }
   ],
   "source": [
    "os.rmdir('test-folder/')"
   ]
  },
  {
   "cell_type": "code",
   "execution_count": 47,
   "id": "1eecd322-c9ef-4e09-a2ba-1018627f3b06",
   "metadata": {},
   "outputs": [],
   "source": [
    "shutil.rmtree('test-folder')"
   ]
  },
  {
   "cell_type": "code",
   "execution_count": 52,
   "id": "275ac5fa-5413-4174-b693-65bcc8d4a459",
   "metadata": {},
   "outputs": [],
   "source": [
    "a = 2\n",
    "b = 'abcd'\n",
    "\n",
    "try:\n",
    "    print(a+b)\n",
    "    \n",
    "except:\n",
    "    pass"
   ]
  },
  {
   "cell_type": "code",
   "execution_count": 57,
   "id": "52198558-122b-4032-a7d0-79219061f812",
   "metadata": {},
   "outputs": [],
   "source": [
    "name = 'ABCD-1234-png'"
   ]
  },
  {
   "cell_type": "code",
   "execution_count": 58,
   "id": "d297faf2-337c-4d5f-98ff-e93dfc2804c6",
   "metadata": {},
   "outputs": [
    {
     "data": {
      "text/plain": [
       "2468"
      ]
     },
     "execution_count": 58,
     "metadata": {},
     "output_type": "execute_result"
    }
   ],
   "source": [
    "int(name.split('-')[1])*2"
   ]
  },
  {
   "cell_type": "code",
   "execution_count": 59,
   "id": "f4e2914a-cc04-4c33-bfdd-1847b3123a2f",
   "metadata": {},
   "outputs": [],
   "source": [
    "import os\n",
    "\n",
    "os.makedirs(\"exercise3_dir\", exist_ok=True)\n",
    "\n",
    "for i in range(1,21):\n",
    "    file_name = \"exercise3_dir/\" + str(i) + '.txt'\n",
    "    with open(file_name, 'w') as f:\n",
    "        f.write(str(i))\n",
    "        \n"
   ]
  },
  {
   "cell_type": "code",
   "execution_count": 60,
   "id": "86c8fbd9-8d6b-49bf-b6e7-ed829214d29a",
   "metadata": {},
   "outputs": [],
   "source": [
    "file_names = os.listdir(\"exercise3_dir\")"
   ]
  },
  {
   "cell_type": "code",
   "execution_count": 64,
   "id": "067184d2-3188-4f66-8f98-85097736bfec",
   "metadata": {},
   "outputs": [],
   "source": [
    "# comment\n",
    "for file_name in file_names:\n",
    "    num = int(file_name.split('.')[0])\n",
    "    if num % 2 != 0:\n",
    "        os.remove('exercise3_dir/'+file_name) # remove odd files\n",
    "        continue"
   ]
  },
  {
   "cell_type": "code",
   "execution_count": 66,
   "id": "4f094001-2804-4c49-900b-2698c65f7ccf",
   "metadata": {},
   "outputs": [
    {
     "data": {
      "text/plain": [
       "'4.txt'"
      ]
     },
     "execution_count": 66,
     "metadata": {},
     "output_type": "execute_result"
    }
   ],
   "source": [
    "file_name"
   ]
  },
  {
   "cell_type": "code",
   "execution_count": 86,
   "id": "c020e3ad-27e4-439e-b611-dafb66ea35b8",
   "metadata": {},
   "outputs": [],
   "source": [
    "class Employee:\n",
    "    \n",
    "    def get_info(self, first, second, age):\n",
    "        self.first_name = first\n",
    "        self.second_name = second\n",
    "        self.age = age\n",
    "    \n",
    "    def full_name(self):\n",
    "        return self.first_name + ' ' + self.second_name\n",
    "    \n",
    "    def get_weight(self, weight):\n",
    "        self.weight = weight"
   ]
  },
  {
   "cell_type": "code",
   "execution_count": 81,
   "id": "7e7916bd-3c88-4cf0-b6d3-821f30b97f0d",
   "metadata": {},
   "outputs": [],
   "source": [
    "emp1 = Employee('Mohammad', 'Akradi', 26)"
   ]
  },
  {
   "cell_type": "code",
   "execution_count": 83,
   "id": "906f6adb-239e-458f-b15c-3dc26563eb52",
   "metadata": {},
   "outputs": [],
   "source": [
    "emp1.get_weight(85)"
   ]
  },
  {
   "cell_type": "code",
   "execution_count": 84,
   "id": "c72ea54e-f058-4ecd-9a9c-a9fcd40d43a5",
   "metadata": {},
   "outputs": [
    {
     "data": {
      "text/plain": [
       "85"
      ]
     },
     "execution_count": 84,
     "metadata": {},
     "output_type": "execute_result"
    }
   ],
   "source": [
    "emp1.weight"
   ]
  },
  {
   "cell_type": "code",
   "execution_count": 87,
   "id": "3606083c-1649-4dae-81d6-e430b8542b5c",
   "metadata": {},
   "outputs": [],
   "source": [
    "emp2 = Employee()"
   ]
  },
  {
   "cell_type": "code",
   "execution_count": 89,
   "id": "7ede66e0-90c8-4bb7-98f9-0acc73230bb5",
   "metadata": {},
   "outputs": [],
   "source": [
    "emp2.get_info('Ali', 'KHali', 21)"
   ]
  },
  {
   "cell_type": "code",
   "execution_count": 90,
   "id": "72f8e543-d6f8-4c1d-bcfc-0a25b015b843",
   "metadata": {},
   "outputs": [
    {
     "data": {
      "text/plain": [
       "21"
      ]
     },
     "execution_count": 90,
     "metadata": {},
     "output_type": "execute_result"
    }
   ],
   "source": [
    "emp2.age"
   ]
  },
  {
   "cell_type": "code",
   "execution_count": null,
   "id": "68174062-4f6c-4ff1-a9f6-fef47263d61a",
   "metadata": {},
   "outputs": [],
   "source": []
  }
 ],
 "metadata": {
  "kernelspec": {
   "display_name": "Python 3 (ipykernel)",
   "language": "python",
   "name": "python3"
  },
  "language_info": {
   "codemirror_mode": {
    "name": "ipython",
    "version": 3
   },
   "file_extension": ".py",
   "mimetype": "text/x-python",
   "name": "python",
   "nbconvert_exporter": "python",
   "pygments_lexer": "ipython3",
   "version": "3.8.10"
  }
 },
 "nbformat": 4,
 "nbformat_minor": 5
}
