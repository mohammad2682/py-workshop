{
 "cells": [
  {
   "cell_type": "markdown",
   "id": "a39cb8cf-d49e-4d9d-90b9-62864495a26a",
   "metadata": {},
   "source": [
    "<div align=\"left\"><img width=\"15%\" src=\"Materials/Logo.png\"></div>\n",
    "\n",
    "# __Python and Datascience Workshop__\n",
    "## __Session 1__"
   ]
  },
  {
   "cell_type": "markdown",
   "id": "6172b73a-0e8b-4f8e-953a-c63fac7880f0",
   "metadata": {},
   "source": [
    "<font size=\"3\">\n",
    "In this workshop we will learn basics of python, working with tabular data, data visualization, simple statistics and neuroimaging in python.\n",
    "\n",
    "to install python, go to [Python website](https://www.python.org/downloads/) and download the version compatible with your operating system. it is recommended to use python on Linux OS for this workshop as we will work with neuroimaging data.\n",
    "</font>"
   ]
  },
  {
   "cell_type": "markdown",
   "id": "c18ff5e8-fd2d-4eeb-bd92-a7b7438ae02f",
   "metadata": {},
   "source": [
    "## Initialization\n",
    "#### Prerequisites:\n",
    "* checking python interpreter version"
   ]
  },
  {
   "cell_type": "code",
   "execution_count": null,
   "id": "85830842-8791-41bb-80ad-2e87f637194b",
   "metadata": {},
   "outputs": [],
   "source": [
    "!python --version\n",
    "\n",
    "# or\n",
    "\n",
    "from platform import python_version\n",
    "\n",
    "print(python_version())"
   ]
  },
  {
   "cell_type": "markdown",
   "id": "fdb3a181-225e-4b56-bc39-56cda9be6e44",
   "metadata": {},
   "source": [
    "* installing pip"
   ]
  },
  {
   "cell_type": "code",
   "execution_count": null,
   "id": "e7b5433d-ea94-49eb-aaf2-5e852f681912",
   "metadata": {},
   "outputs": [],
   "source": [
    "!curl https://bootstrap.pypa.io/get-pip.py -o get-pip.py\n",
    "!python get-pip.py\n",
    "!pip --version"
   ]
  },
  {
   "cell_type": "markdown",
   "id": "32c200e3-0a80-4987-9fe2-20b3fd3fbbd0",
   "metadata": {},
   "source": [
    "* installing packages with pip\n",
    "\n",
    "```python\n",
    "!pip install <package-name>\n",
    "```\n",
    "\n",
    "* checking installed packages\n",
    "\n",
    "```python\n",
    "import package-name\n",
    "print(package-name.__version__)\n",
    "```\n",
    "\n",
    "* importing packages"
   ]
  },
  {
   "cell_type": "code",
   "execution_count": null,
   "id": "3b09cb6f-e366-409b-9ced-323644288285",
   "metadata": {},
   "outputs": [],
   "source": [
    "import numpy as np\n",
    "import pandas as pd\n",
    "import matplotlib.pyplot as plt\n",
    "#from matplotlib import pyplot as plt"
   ]
  },
  {
   "cell_type": "markdown",
   "id": "300269f8-14af-4d6d-9735-baf2b02e2ed3",
   "metadata": {
    "tags": []
   },
   "source": [
    "---\n",
    "## 1. Data structures in Python\n",
    "* Integers and Floats"
   ]
  },
  {
   "cell_type": "code",
   "execution_count": null,
   "id": "d4f85770-78b2-4909-88a2-32788d74520d",
   "metadata": {
    "tags": []
   },
   "outputs": [],
   "source": [
    "a = 2 #integer\n",
    "pi = 3.14 #float\n",
    "summation = a+pi\n",
    "print(summation)\n",
    "print(float(a))\n",
    "print(int(pi))"
   ]
  },
  {
   "cell_type": "markdown",
   "id": "c5002f41-1e81-43e8-b14b-5705132e8b3f",
   "metadata": {
    "tags": []
   },
   "source": [
    "* Strings"
   ]
  },
  {
   "cell_type": "code",
   "execution_count": 1,
   "id": "71101fec-115b-4852-bd87-6ecbbc597cf3",
   "metadata": {
    "tags": []
   },
   "outputs": [
    {
     "name": "stdout",
     "output_type": "stream",
     "text": [
      "Aliar3\n"
     ]
    }
   ],
   "source": [
    "char = \"a\"\n",
    "name = \"Ali\"\n",
    "name_new = name + char + \"r3\"\n",
    "print(name_new)"
   ]
  },
  {
   "cell_type": "code",
   "execution_count": 2,
   "id": "e88e5963-7a00-434f-8152-60bb01ec9229",
   "metadata": {},
   "outputs": [
    {
     "data": {
      "text/plain": [
       "'i'"
      ]
     },
     "execution_count": 2,
     "metadata": {},
     "output_type": "execute_result"
    }
   ],
   "source": [
    "name[2]"
   ]
  },
  {
   "cell_type": "markdown",
   "id": "28153d8e-ccb3-4611-bdd2-b59461b39d52",
   "metadata": {
    "tags": []
   },
   "source": [
    "* Boolean and None"
   ]
  },
  {
   "cell_type": "code",
   "execution_count": null,
   "id": "bffb9b52-e311-4e55-abe0-276552013be4",
   "metadata": {
    "tags": []
   },
   "outputs": [],
   "source": [
    "condition1, condition2 = True, False\n",
    "none = None\n",
    "print(int(condition1))\n",
    "print(int(condition2))"
   ]
  },
  {
   "cell_type": "markdown",
   "id": "003465dd-225f-4c39-8a96-ec6451eb7a21",
   "metadata": {
    "tags": []
   },
   "source": [
    "* Lists"
   ]
  },
  {
   "cell_type": "code",
   "execution_count": null,
   "id": "ecf3b924-6f4d-4f04-923a-61635db22d52",
   "metadata": {
    "tags": []
   },
   "outputs": [],
   "source": [
    "lst = [1, 2, \"3\", \"character\", 5, [6, 7, 8], 9, True, None]\n",
    "\n",
    "# lists are mutable\n",
    "lst[2] = 3\n",
    "print(lst[2])"
   ]
  },
  {
   "cell_type": "markdown",
   "id": "16b8ab0e-5eba-4675-8e21-90f23488f630",
   "metadata": {
    "tags": []
   },
   "source": [
    "* Dictionaries"
   ]
  },
  {
   "cell_type": "code",
   "execution_count": null,
   "id": "f2e37081-462d-4651-8256-c4480ae4ad86",
   "metadata": {
    "tags": []
   },
   "outputs": [],
   "source": [
    "phonebook = {\"Ali\": 7475,\n",
    "            \"Fateme\": 6218,\n",
    "            \"Reza\": 1395}\n",
    "print(phonebook[\"Ali\"])\n",
    "print(phonebook.keys())\n",
    "\n",
    "# dictionaries are mutable\n",
    "phonebook[\"Ali\"] = 4235\n",
    "print(phonebook)"
   ]
  },
  {
   "cell_type": "markdown",
   "id": "543ba2a4-647c-4eda-a398-f0cc0ecc81ec",
   "metadata": {
    "tags": []
   },
   "source": [
    "* Tuples"
   ]
  },
  {
   "cell_type": "code",
   "execution_count": null,
   "id": "3922d41c-ec39-476c-914a-88bfffc4faf4",
   "metadata": {
    "tags": []
   },
   "outputs": [],
   "source": [
    "tup1 = (1, \"2\", [3, 4])\n",
    "print(tup1[2])\n",
    "\n",
    "# tuples are immutable\n",
    "tup1[1] = 2 # so this causes an error: 'tuple' object does not support item assignment"
   ]
  },
  {
   "cell_type": "markdown",
   "id": "80e9df1d-9598-4c20-90a2-521c520061e4",
   "metadata": {
    "tags": []
   },
   "source": [
    "there are lots examples and notes we should know about data structure, but for now, we will be content with that."
   ]
  },
  {
   "cell_type": "markdown",
   "id": "3983b2f7-6238-4963-9062-2745795dbe40",
   "metadata": {},
   "source": [
    "---\n",
    "## 2. Conditional Code\n",
    "\n",
    "somtimes we want to run one or more commands under certain circumstances. so, we use conditional code to this approach.\n",
    "in conditional code, we use `if` with a following `condition`, which means that the specified commands will run if the `statement` arguman is `True`.\n",
    "\n",
    "* Example #1:"
   ]
  },
  {
   "cell_type": "code",
   "execution_count": null,
   "id": "0326c2a1-27e1-456a-bb62-df6d9dcf0d58",
   "metadata": {},
   "outputs": [],
   "source": [
    "statement = 1\n",
    "if statement == 1:\n",
    "    print(\"the condition is true\")"
   ]
  },
  {
   "cell_type": "markdown",
   "id": "67bcb8af-25de-4f16-8de9-dc58d59c4f94",
   "metadata": {},
   "source": [
    "we can do something else if the statement is not True. to this approach we should use `else` like example below:\n",
    "\n",
    "* Example #2:"
   ]
  },
  {
   "cell_type": "code",
   "execution_count": null,
   "id": "21fdb177-d306-4a84-9101-00cfe6ea9487",
   "metadata": {},
   "outputs": [],
   "source": [
    "statement = -1\n",
    "if statement >= 0:\n",
    "    print(\"statement value is positive\")\n",
    "else:\n",
    "    print(\"statement value is not positive\")"
   ]
  },
  {
   "cell_type": "markdown",
   "id": "10c29717-5c41-4c98-bc15-bda1dd7d1e0f",
   "metadata": {},
   "source": [
    "we can search for other conditions with `elif`, if the first condition is not True.\n",
    "\n",
    "* Example #3:"
   ]
  },
  {
   "cell_type": "code",
   "execution_count": 3,
   "id": "2396d9bf-48b6-4a23-a9d3-5777ed388a1e",
   "metadata": {},
   "outputs": [
    {
     "data": {
      "text/plain": [
       "True"
      ]
     },
     "execution_count": 3,
     "metadata": {},
     "output_type": "execute_result"
    }
   ],
   "source": [
    "obj = \"Mohammad\"\n",
    "\n",
    "isinstance(obj, str)"
   ]
  },
  {
   "cell_type": "markdown",
   "id": "438a5f2e-ad04-428d-bc58-412a81ad48c0",
   "metadata": {},
   "source": [
    "# Exercise 1"
   ]
  },
  {
   "cell_type": "code",
   "execution_count": null,
   "id": "a51f38ba-877d-4ba2-a595-797a94ad63a9",
   "metadata": {},
   "outputs": [],
   "source": [
    "statement = \"string\"\n",
    "if isinstance(statement, str) == True:\n",
    "    print(\"Statement type is string\")\n",
    "elif isinstance(statement, int) == True:\n",
    "    print(\"Statement type is integer\")\n",
    "elif isinstance(statement, float) == True:\n",
    "    print(\"Statement type is float\")\n",
    "else:\n",
    "    print(\"Statement type is neither numeric nor string\")"
   ]
  },
  {
   "cell_type": "markdown",
   "id": "d8682a76-5c5a-42a2-a794-738383bb05cc",
   "metadata": {},
   "source": [
    "also, we can use logical `and`, `or` in our statement to check if two statements happen at once \"(and)\" or at least one of them \"(or)\". to this approach we can use both `and`/`&` for and statement, `or`/`|` for or statement.\n",
    "\n",
    "* Example #4:"
   ]
  },
  {
   "cell_type": "code",
   "execution_count": null,
   "id": "d17b5c22-1fe8-47e8-a76f-b515ecaa7de0",
   "metadata": {},
   "outputs": [],
   "source": [
    "exp1 = 5\n",
    "exp2 = \"apple\"\n",
    "if (statement1==5) and (statement2==\"orange\"):\n",
    "    print(\"exp1 is 5 and exp2 is orange\")\n",
    "elif (statement1==5) & (statement2==\"apple\"):\n",
    "    print(\"exp1 is 5 and exp2 is apple\")\n",
    "    \n",
    "if (statement1==5) or (statement2==\"orange\"):\n",
    "    print(\"At least one of the terms exp1 or exp2 is True\")\n",
    "else:\n",
    "    print(\"None of the expressions exp1 or exp2 are True\")"
   ]
  },
  {
   "cell_type": "markdown",
   "id": "a45d2b5c-7190-43f0-a44b-be93fdc00662",
   "metadata": {},
   "source": [
    "---\n",
    "## 3. Loops and Iterations\n",
    "more often, specially in data analysis, we want to repeat one or more commands in our code, that's when we should use a loop to repeat our code for different inputs.\n",
    "to this approach we use `for` and start iterating in data.\n",
    "\n",
    "* Example #1:"
   ]
  },
  {
   "cell_type": "code",
   "execution_count": null,
   "id": "64181973-db41-4683-ba7e-6e78f2d7b794",
   "metadata": {},
   "outputs": [],
   "source": [
    "for i in range(10):\n",
    "    print(i)"
   ]
  },
  {
   "cell_type": "markdown",
   "id": "f5ef3cb2-9783-41e6-a2d8-fd212d4b811c",
   "metadata": {},
   "source": [
    "we can iterate in a prepared list or array:\n",
    "\n",
    "* Example #2:"
   ]
  },
  {
   "cell_type": "code",
   "execution_count": null,
   "id": "ea01bdcf-572a-48c7-86a8-c10ac84afd79",
   "metadata": {},
   "outputs": [],
   "source": [
    "lst = [1, 2, \"Ali\", 4, 5, [6, 7]]\n",
    "for item in lst:\n",
    "    print(lst)"
   ]
  },
  {
   "cell_type": "markdown",
   "id": "18f9f344-b260-4d61-a86c-2f934d8a66fe",
   "metadata": {},
   "source": [
    "we can break for loop under certain circumstanses:\n",
    "\n",
    "* Example #3:"
   ]
  },
  {
   "cell_type": "code",
   "execution_count": 2,
   "id": "0fc35f31-bafb-4d54-a1f6-915dffdcd7f4",
   "metadata": {},
   "outputs": [
    {
     "name": "stdout",
     "output_type": "stream",
     "text": [
      "0\n",
      "1\n",
      "2\n",
      "3\n",
      "4\n",
      "5\n",
      "6\n",
      "We will end loop here\n"
     ]
    }
   ],
   "source": [
    "for i in range(10):\n",
    "    print(i)\n",
    "    if i ==6:\n",
    "        print(\"We will end loop here\")\n",
    "        break"
   ]
  },
  {
   "cell_type": "markdown",
   "id": "f747cef3-e500-439c-b364-d1b9f5be24c2",
   "metadata": {},
   "source": [
    "---\n",
    "## 4. Functions\n",
    "some commands should be repeated in a code several times. but it doesn't look good to repeat a block of code, several time in a single code. so, we define a function which includes this block of code, and whenever we need to run these commands, we call the defined function. we already use lots of python built-in functions; e.g. `print`.\n",
    "\n",
    "for defining a function we need a `name` for the function, `input` and `output` if it's needed. so, a function could have or not `input` and `output`.\n",
    "\n",
    "* Example #1:"
   ]
  },
  {
   "cell_type": "code",
   "execution_count": null,
   "id": "a70745d3-54a8-4828-99d7-d821fae998cc",
   "metadata": {},
   "outputs": [],
   "source": [
    "def display():\n",
    "    print(\"this a display function\")"
   ]
  },
  {
   "cell_type": "markdown",
   "id": "a788ffa9-0183-4956-97bd-28f66350358f",
   "metadata": {},
   "source": [
    "* Example #2:"
   ]
  },
  {
   "cell_type": "code",
   "execution_count": null,
   "id": "b6b2b048-b801-4e7e-906a-d87ef75b6853",
   "metadata": {},
   "outputs": [],
   "source": [
    "def func_name(input1, input2):\n",
    "    output = input1*input2\n",
    "    print(output)"
   ]
  },
  {
   "cell_type": "markdown",
   "id": "322ccf2f-3120-4c64-93c1-04dbc5fff5ce",
   "metadata": {},
   "source": [
    "* Example #3:"
   ]
  },
  {
   "cell_type": "code",
   "execution_count": null,
   "id": "ba119997-34fd-4021-a589-380162bfa002",
   "metadata": {},
   "outputs": [],
   "source": [
    "def func_name():\n",
    "    output = 2\n",
    "    return output"
   ]
  },
  {
   "cell_type": "markdown",
   "id": "6aee56ef-cc6b-4c3b-b042-104eadab93c8",
   "metadata": {},
   "source": [
    "* Example #4:"
   ]
  },
  {
   "cell_type": "code",
   "execution_count": null,
   "id": "32a827c8-dfc6-412a-9bed-20bdaac96df9",
   "metadata": {},
   "outputs": [],
   "source": [
    "def func_name(input1, input2):\n",
    "    output = input1*input2\n",
    "    return output"
   ]
  },
  {
   "cell_type": "markdown",
   "id": "d5b4f883-9793-45b4-943d-f81d6f679511",
   "metadata": {},
   "source": [
    "# Exercise 2\n",
    "\n",
    "1. Write a Python function to find the Max of three numbers.\n",
    "\n",
    "```python\n",
    "def max_of_two( x, y ):\n",
    "    if x > y:\n",
    "        return x\n",
    "    return y\n",
    "def max_of_three( x, y, z ):\n",
    "    return max_of_two( x, max_of_two( y, z ) )\n",
    "print(max_of_three(3, 6, -5))\n",
    "```\n",
    "\n",
    "2. Write a Python function to sum all the numbers in a list.\n",
    "\n",
    "```python\n",
    "def sum(numbers):\n",
    "    total = 0\n",
    "    for x in numbers:\n",
    "        total += x\n",
    "    return total\n",
    "print(sum([8, 2, 3, 0, 7]))\n",
    "```"
   ]
  },
  {
   "cell_type": "markdown",
   "id": "5988012c-76e5-4556-8e25-e83570eebebd",
   "metadata": {},
   "source": [
    "---\n",
    "## 5. Files\n",
    "before getting through opening and processing files in python, let's have a look at the `input` function in python.\n",
    "\n",
    "* Example #1:"
   ]
  },
  {
   "cell_type": "code",
   "execution_count": null,
   "id": "618bf510-4508-4fc1-b026-2b46c1164d4e",
   "metadata": {},
   "outputs": [],
   "source": [
    "dat1 = input(\"Enter the input value\")\n",
    "print(dat1)"
   ]
  },
  {
   "cell_type": "markdown",
   "id": "d5752fe2-a61d-40d2-b612-8b7a8a734f07",
   "metadata": {},
   "source": [
    "this is the simplest way to get an input in python. for opening a file in python we use `open` function. this function takes to parameters, _filename_ and _mode_. there are four different modes for opening a file:\n",
    "> \"r\" - Read- Default value. opens a file for reading, error if the file does not exist\n",
    "<br> \"a\" -Append- opens a file for appending, creates the file if it does not exist\n",
    "<br> \"w\" -Write- opens a file for writing, creates the file if it does not exist\n",
    "<br> \"x\" -Create- creates the specified file, returns an error if the file exist\n",
    "<br> \"r+\" -Read and Write mode\n",
    "\n",
    "first of all, we create a txt file and add some lines to that:\n",
    "\n",
    "* Example #2:"
   ]
  },
  {
   "cell_type": "code",
   "execution_count": null,
   "id": "7c5c678e-7a0f-489c-9bbb-8410be0e1b4d",
   "metadata": {},
   "outputs": [],
   "source": [
    "f = open(\"file.txt\", \"w\")\n",
    "f.write(\"# this is a txt file created by python code \\n\")\n",
    "f.write(\"# Date: 17 March 2022 \\n \\n\")\n",
    "f.write(\"Created by Mohammad\")\n",
    "f.close()"
   ]
  },
  {
   "cell_type": "markdown",
   "id": "1ff8180a-a7c1-45ad-835c-f556ebe739c9",
   "metadata": {},
   "source": [
    "* Example #3:"
   ]
  },
  {
   "cell_type": "code",
   "execution_count": null,
   "id": "d8cbf2f7-e8ad-46e7-b6f9-9990a18f0dde",
   "metadata": {},
   "outputs": [],
   "source": [
    "f = open(\"file.txt\")\n",
    "for line in f:\n",
    "    print(line)\n",
    "f.close()"
   ]
  },
  {
   "cell_type": "markdown",
   "id": "ea0e1e02-90bb-45a1-af6b-a40578dbc5fc",
   "metadata": {},
   "source": [
    "if you open a file in write mode, it will clear all context of file. so if you want to add some new lines to your txt file, you should open it in `append` mode.\n",
    "\n",
    "* Example #4:"
   ]
  },
  {
   "cell_type": "code",
   "execution_count": null,
   "id": "8bf4eba5-ea2a-4cc5-8a32-26426a108116",
   "metadata": {},
   "outputs": [],
   "source": [
    "f = open(\"file.txt\", \"a\")\n",
    "f.write(\"\\n This line is appended to the main txt file\")\n",
    "f.close()"
   ]
  },
  {
   "cell_type": "markdown",
   "id": "5c2ae5eb-b7c0-4bd2-96fe-232c30cb892f",
   "metadata": {},
   "source": [
    "it is better to use `with` method to open a file. so, any files opened will be closed automatically after one is done, so auto-cleanup\n",
    "\n",
    "* Example #5:"
   ]
  },
  {
   "cell_type": "code",
   "execution_count": 18,
   "id": "834276c3-6b12-4e6a-b417-e28a70413e51",
   "metadata": {},
   "outputs": [
    {
     "name": "stdout",
     "output_type": "stream",
     "text": [
      "['#', 'this', 'is', 'a', 'txt', 'file', 'created', 'by', 'python', 'code']\n",
      "['#', 'Date:', '17', 'March', '2022']\n",
      "[]\n",
      "['Created', 'by', 'Mohammad']\n"
     ]
    }
   ],
   "source": [
    "with open(\"file.txt\") as f:\n",
    "    for line in f:\n",
    "        print(line)"
   ]
  },
  {
   "cell_type": "markdown",
   "id": "e4724dd7-a730-4c86-97a8-3a2699f4d466",
   "metadata": {},
   "source": [
    "We can also split lines using file handling in Python. This splits the variable when space is encountered. You can also split using any characters as we wish. Here is the code:\n",
    "\n",
    "* Example #6:"
   ]
  },
  {
   "cell_type": "code",
   "execution_count": 19,
   "id": "d5fd49b2-9eef-494a-9a9d-3c7308179800",
   "metadata": {},
   "outputs": [
    {
     "name": "stdout",
     "output_type": "stream",
     "text": [
      "['#', 'this', 'is', 'a', 'txt', 'file', 'created', 'by', 'python', 'code']\n",
      "['#', 'Date:', '17', 'March', '2022']\n",
      "[]\n",
      "['Created', 'by', 'Mohammad']\n"
     ]
    }
   ],
   "source": [
    "with open(\"file.txt\", \"r\") as f:\n",
    "    data = f.readlines()\n",
    "    for line in data:\n",
    "        word = line.split()\n",
    "        print (word)"
   ]
  },
  {
   "cell_type": "markdown",
   "id": "27e9b2b8-c117-4d92-a09c-8d6c8d5dd954",
   "metadata": {},
   "source": [
    "### __Check if a file exists__\n",
    "if you want to check if a file exist in a directory, you can use `os.path.exists` command:\n",
    "\n",
    "* Example #7:"
   ]
  },
  {
   "cell_type": "code",
   "execution_count": null,
   "id": "e84b14cc-36cc-4c2b-a908-1bbb94c4ac1a",
   "metadata": {},
   "outputs": [],
   "source": [
    "import os\n",
    "os.path.exists(\"file.txt\")"
   ]
  },
  {
   "cell_type": "markdown",
   "id": "3c8134b6-3cfb-4c42-8663-48f1d618d803",
   "metadata": {},
   "source": [
    "### __Removing a file__\n",
    "for removing files in your device, you can use `os.remove` command:\n",
    "\n",
    "* Example #8:"
   ]
  },
  {
   "cell_type": "code",
   "execution_count": null,
   "id": "670ebf86-25fa-4c92-bff6-9fdc2ef10b97",
   "metadata": {},
   "outputs": [],
   "source": [
    "os.remove(\"file.txt\")"
   ]
  },
  {
   "cell_type": "markdown",
   "id": "dd9b0753-f441-469f-9e8a-4e0907cd5cad",
   "metadata": {},
   "source": [
    "### __Creating a directory__\n",
    "\n",
    "* Example #9:"
   ]
  },
  {
   "cell_type": "code",
   "execution_count": null,
   "id": "c52c0962-3075-4bd7-b392-03066bf9fd2e",
   "metadata": {},
   "outputs": [],
   "source": [
    "os.makedirs(\"test_dir\", exist_ok=True)"
   ]
  },
  {
   "cell_type": "markdown",
   "id": "f599ae44-de05-4516-8656-0d5ba318bbd0",
   "metadata": {},
   "source": [
    "### __copy and move files into another directory__\n",
    "\n",
    "* Example #10:"
   ]
  },
  {
   "cell_type": "code",
   "execution_count": null,
   "id": "bf8dea9a-56c5-4d5c-8ab6-6a968c4f0868",
   "metadata": {},
   "outputs": [],
   "source": [
    "import shutil\n",
    "\n",
    "shutil.copy(\"file.txt\", \"test_dir/copy.txt\") ## make a copy of file.txt in test_dir directory\n",
    "shutil.move(\"file.txt\", \"test_dir/move_file.txt\") ## moves file.txt into test_dir directory"
   ]
  },
  {
   "cell_type": "markdown",
   "id": "032bb896-441b-4997-a279-f18a915277e5",
   "metadata": {},
   "source": [
    "### __remove a directory__\n",
    "\n",
    "* Example #11:"
   ]
  },
  {
   "cell_type": "code",
   "execution_count": null,
   "id": "5354f1e7-71af-4926-9155-3daa26c0ac7e",
   "metadata": {},
   "outputs": [],
   "source": [
    "os.rmdir(\"test_dir\") ## Removes test_dir folder if it is empty\n",
    "\n",
    "shutil.rmtree(\"test_dir\") ## Removes test_dir folder whether it is empty or not"
   ]
  },
  {
   "cell_type": "markdown",
   "id": "9285c85c-6866-4e05-837d-7548635ac288",
   "metadata": {},
   "source": [
    "---\n",
    "## 6. Error Handling\n",
    "\n",
    "Sometimes we do not know if a command is wrong or not and it does not really matter to us. We may want to run a for loop that takes time and we do not want to stop in the event of an error. so we use `try` and `except` method in this case.\n",
    "\n",
    "* Example #1:"
   ]
  },
  {
   "cell_type": "code",
   "execution_count": null,
   "id": "da22ded3-fcbe-478c-a687-11434b04b455",
   "metadata": {},
   "outputs": [],
   "source": [
    "a = \"2\"\n",
    "b = 3\n",
    "try:\n",
    "    print(a+b)\n",
    "except:\n",
    "    print(\"an error occurred\")"
   ]
  },
  {
   "cell_type": "markdown",
   "id": "141dd7dd-43a3-409c-9e4c-908bca8a6be1",
   "metadata": {},
   "source": [
    "you can handle specific errors:\n",
    "\n",
    "* Example #2:"
   ]
  },
  {
   "cell_type": "code",
   "execution_count": null,
   "id": "2e66322d-0c18-4177-b9e9-4145cd3df58d",
   "metadata": {},
   "outputs": [],
   "source": [
    "while True:\n",
    "    try:\n",
    "        x = int(input(\"Please enter a number: \"))\n",
    "        if x == -1:\n",
    "            break\n",
    "    except ValueError:\n",
    "        print(\"Oops!  That was no valid number.  Try again...\")"
   ]
  },
  {
   "cell_type": "markdown",
   "id": "a967af92-e0d3-4718-83b8-b07087f8f3e8",
   "metadata": {},
   "source": [
    "## Note: Split Function\n",
    "\n",
    "we can split a string variable by a certain character.\n",
    "\n",
    "* Example"
   ]
  },
  {
   "cell_type": "code",
   "execution_count": 17,
   "id": "d8c1c5ad-7a48-4dcc-be5d-3e0db8ec31f0",
   "metadata": {},
   "outputs": [
    {
     "name": "stdout",
     "output_type": "stream",
     "text": [
      "['ABCD', '1748', 'pwd'] \n",
      "\n",
      "1748\n"
     ]
    }
   ],
   "source": [
    "name = 'ABCD.1748.pwd'\n",
    "\n",
    "name_splitted = name.split('.')\n",
    "\n",
    "print(name_splitted, '\\n')\n",
    "print(name_splitted[1])"
   ]
  },
  {
   "cell_type": "markdown",
   "id": "247f04f4-d6dd-42e9-a6b2-b03f3af4fb83",
   "metadata": {},
   "source": [
    "# Exercise 3\n",
    "\n",
    "make a floder in current directory, create 20 `.txt` files each includes a number. then list them and delete those files with odd numbers."
   ]
  },
  {
   "cell_type": "code",
   "execution_count": 15,
   "id": "422274e1-5ec8-409f-9e39-40a0233f6dcd",
   "metadata": {},
   "outputs": [],
   "source": [
    "import os\n",
    "\n",
    "os.makedirs(\"exercise3_dir\", exist_ok=True)\n",
    "\n",
    "for i in range(1,21):\n",
    "    file_name = \"exercise3_dir/\" + str(i) + '.txt'\n",
    "    with open(file_name, 'w') as f:\n",
    "        f.write(str(i))\n",
    "        \n",
    "file_names = os.listdir(\"exercise3_dir\")\n",
    "\n",
    "for file_name in file_names:\n",
    "    if int(file_name.split('.')[0])%2==0:\n",
    "        continue\n",
    "    os.remove(\"exercise3_dir/\" + file_name)"
   ]
  }
 ],
 "metadata": {
  "kernelspec": {
   "display_name": "Python 3 (ipykernel)",
   "language": "python",
   "name": "python3"
  },
  "language_info": {
   "codemirror_mode": {
    "name": "ipython",
    "version": 3
   },
   "file_extension": ".py",
   "mimetype": "text/x-python",
   "name": "python",
   "nbconvert_exporter": "python",
   "pygments_lexer": "ipython3",
   "version": "3.8.10"
  }
 },
 "nbformat": 4,
 "nbformat_minor": 5
}
